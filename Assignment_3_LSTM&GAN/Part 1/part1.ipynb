{
 "cells": [
  {
   "cell_type": "code",
   "execution_count": 1,
   "id": "faff4f44-c1cb-481f-a2ae-e4d60ff5ef17",
   "metadata": {},
   "outputs": [
    {
     "name": "stdout",
     "output_type": "stream",
     "text": [
      "Requirement already satisfied: pandas in /opt/homebrew/Cellar/jupyterlab/4.3.3/libexec/lib/python3.13/site-packages (2.2.3)\n",
      "Requirement already satisfied: numpy>=1.26.0 in /opt/homebrew/lib/python3.13/site-packages (from pandas) (2.2.0)\n",
      "Requirement already satisfied: python-dateutil>=2.8.2 in /opt/homebrew/Cellar/jupyterlab/4.3.3/libexec/lib/python3.13/site-packages (from pandas) (2.9.0.post0)\n",
      "Requirement already satisfied: pytz>=2020.1 in /opt/homebrew/Cellar/jupyterlab/4.3.3/libexec/lib/python3.13/site-packages (from pandas) (2024.2)\n",
      "Requirement already satisfied: tzdata>=2022.7 in /opt/homebrew/Cellar/jupyterlab/4.3.3/libexec/lib/python3.13/site-packages (from pandas) (2024.2)\n",
      "Requirement already satisfied: six>=1.5 in /opt/homebrew/Cellar/jupyterlab/4.3.3/libexec/lib/python3.13/site-packages (from python-dateutil>=2.8.2->pandas) (1.17.0)\n",
      "Note: you may need to restart the kernel to use updated packages.\n"
     ]
    }
   ],
   "source": [
    "pip install pandas"
   ]
  },
  {
   "cell_type": "code",
   "execution_count": 2,
   "id": "initial_id",
   "metadata": {
    "ExecuteTime": {
     "end_time": "2024-12-23T13:16:40.749963Z",
     "start_time": "2024-12-23T13:16:40.747359Z"
    }
   },
   "outputs": [],
   "source": [
    "from __future__ import absolute_import\n",
    "from __future__ import division\n",
    "from __future__ import print_function"
   ]
  },
  {
   "cell_type": "code",
   "execution_count": 3,
   "id": "f295fe248951ce01",
   "metadata": {
    "ExecuteTime": {
     "end_time": "2024-12-23T13:16:40.757554Z",
     "start_time": "2024-12-23T13:16:40.755074Z"
    },
    "collapsed": false,
    "jupyter": {
     "outputs_hidden": false
    }
   },
   "outputs": [],
   "source": [
    "CONFIG = {\n",
    "    'input_length': 5,\n",
    "    'input_dim': 1,\n",
    "    'num_classes': 10,\n",
    "    'num_hidden': 128,\n",
    "    'batch_size': 128,\n",
    "    'learning_rate': 0.001,\n",
    "    'max_epoch': 200,\n",
    "    'max_norm': 10,\n",
    "    'data_size': 100000,\n",
    "    'portion_train': 0.8,\n",
    "    'use_scheduler': False,\n",
    "}"
   ]
  },
  {
   "cell_type": "code",
   "execution_count": 4,
   "id": "5ab03e3a520917e3",
   "metadata": {
    "ExecuteTime": {
     "end_time": "2024-12-23T13:16:40.767007Z",
     "start_time": "2024-12-23T13:16:40.763324Z"
    },
    "collapsed": false,
    "jupyter": {
     "outputs_hidden": false
    }
   },
   "outputs": [],
   "source": [
    "import matplotlib.pyplot as plt\n",
    "import pandas as pd\n",
    "import os\n",
    "\n",
    "def plot_training_curve(csv_path, file_name):\n",
    "    data = pd.read_csv(csv_path)\n",
    "    \n",
    "    epochs = data['epoch']\n",
    "    train_loss = data['train_loss']\n",
    "    train_acc = data['train_acc']\n",
    "    val_loss = data['val_loss']\n",
    "    val_acc = data['val_acc']\n",
    "    \n",
    "    plt.figure(figsize=(12, 6))\n",
    "\n",
    "    plt.subplot(1, 2, 1)\n",
    "    plt.plot(epochs, train_loss, label='Train Loss')\n",
    "    plt.plot(epochs, val_loss, label='Val Loss')\n",
    "    plt.title(f'{file_name} Loss')\n",
    "    plt.xlabel('Epoch')\n",
    "    plt.ylabel('Loss')\n",
    "    plt.legend()\n",
    "    plt.grid(True)\n",
    "\n",
    "    plt.subplot(1, 2, 2)\n",
    "    plt.plot(epochs, train_acc, label='Train Accuracy')\n",
    "    plt.plot(epochs, val_acc, label='Val Accuracy')\n",
    "    plt.title(f'{file_name} Accuracy')\n",
    "    plt.xlabel('Epoch')\n",
    "    plt.ylabel('Accuracy')\n",
    "    plt.legend()\n",
    "    plt.grid(True)\n",
    "\n",
    "    plt.tight_layout()\n",
    "\n",
    "    output_dir = '../img/Part1/'\n",
    "    os.makedirs(output_dir, exist_ok=True)  \n",
    "    path = os.path.join(output_dir, file_name + '.png')\n",
    "    plt.savefig(path)\n",
    "    \n",
    "    if os.path.exists(path):\n",
    "        print(f\"Plot successfully saved to {path}\")\n",
    "    else:\n",
    "        print(f\"Failed to save plot to {path}\")\n",
    "    \n",
    "    plt.show()\n",
    "    plt.close()\n"
   ]
  },
  {
   "cell_type": "markdown",
   "id": "6b8824d5add4b2e",
   "metadata": {
    "collapsed": false,
    "jupyter": {
     "outputs_hidden": false
    }
   },
   "source": [
    "## Train data"
   ]
  },
  {
   "cell_type": "code",
   "execution_count": 5,
   "id": "39231c61c7a30427",
   "metadata": {
    "ExecuteTime": {
     "end_time": "2024-12-23T13:16:40.790847Z",
     "start_time": "2024-12-23T13:16:40.772135Z"
    },
    "collapsed": false,
    "jupyter": {
     "outputs_hidden": false
    }
   },
   "outputs": [
    {
     "ename": "ModuleNotFoundError",
     "evalue": "No module named 'torch'",
     "output_type": "error",
     "traceback": [
      "\u001b[0;31m---------------------------------------------------------------------------\u001b[0m",
      "\u001b[0;31mModuleNotFoundError\u001b[0m                       Traceback (most recent call last)",
      "Cell \u001b[0;32mIn[5], line 1\u001b[0m\n\u001b[0;32m----> 1\u001b[0m \u001b[38;5;28;01mimport\u001b[39;00m \u001b[38;5;21;01mtrain\u001b[39;00m\n\u001b[1;32m      2\u001b[0m csv_file \u001b[38;5;241m=\u001b[39m \u001b[38;5;124m'\u001b[39m\u001b[38;5;124mresult/t15.csv\u001b[39m\u001b[38;5;124m'\u001b[39m\n\u001b[1;32m      3\u001b[0m train\u001b[38;5;241m.\u001b[39mmain(config\u001b[38;5;241m=\u001b[39mCONFIG, csv_file\u001b[38;5;241m=\u001b[39m csv_file)\n",
      "File \u001b[0;32m~/Desktop/CS324-Deep-Learning-SUSTech/Assignment_3_LSTM&GAN/Part 1/train.py:9\u001b[0m\n\u001b[1;32m      6\u001b[0m \u001b[38;5;28;01mimport\u001b[39;00m \u001b[38;5;21;01mcsv\u001b[39;00m\n\u001b[1;32m      7\u001b[0m \u001b[38;5;28;01mimport\u001b[39;00m \u001b[38;5;21;01mos\u001b[39;00m\n\u001b[0;32m----> 9\u001b[0m \u001b[38;5;28;01mimport\u001b[39;00m \u001b[38;5;21;01mtorch\u001b[39;00m\n\u001b[1;32m     10\u001b[0m \u001b[38;5;28;01mfrom\u001b[39;00m \u001b[38;5;21;01mtorch\u001b[39;00m \u001b[38;5;28;01mimport\u001b[39;00m nn \u001b[38;5;28;01mas\u001b[39;00m nn\n\u001b[1;32m     11\u001b[0m \u001b[38;5;28;01mfrom\u001b[39;00m \u001b[38;5;21;01mtorch\u001b[39;00m\u001b[38;5;21;01m.\u001b[39;00m\u001b[38;5;21;01mutils\u001b[39;00m\u001b[38;5;21;01m.\u001b[39;00m\u001b[38;5;21;01mdata\u001b[39;00m \u001b[38;5;28;01mimport\u001b[39;00m DataLoader\n",
      "\u001b[0;31mModuleNotFoundError\u001b[0m: No module named 'torch'"
     ]
    }
   ],
   "source": [
    "import train\n",
    "csv_file = 'result/t15.csv'\n",
    "train.main(config=CONFIG, csv_file= csv_file)"
   ]
  },
  {
   "cell_type": "code",
   "execution_count": null,
   "id": "32a28435ff9d80f",
   "metadata": {
    "ExecuteTime": {
     "end_time": "2024-12-23T13:16:40.793243Z",
     "start_time": "2024-12-19T15:55:17.704745500Z"
    },
    "collapsed": false,
    "jupyter": {
     "outputs_hidden": false
    }
   },
   "outputs": [],
   "source": [
    "csv_path = \"result/t15.csv\"\n",
    "file_name = 't15'\n",
    "plot_training_curve(csv_path, file_name)"
   ]
  },
  {
   "cell_type": "code",
   "execution_count": null,
   "id": "8a0c0e0125ee08f1",
   "metadata": {
    "ExecuteTime": {
     "end_time": "2024-12-23T13:26:39.442209Z",
     "start_time": "2024-12-23T13:26:39.429689Z"
    }
   },
   "outputs": [],
   "source": [
    "from IPython.display import display, Image\n",
    "\n",
    "print(\"T=5\")\n",
    "display(Image(\"../img/Part1/t5.png\"))\n",
    "\n",
    "print(\"T=10\")\n",
    "display(Image(\"../img/Part1/t10.png\"))\n",
    "\n",
    "print(\"T=20\")\n",
    "display(Image(\"../img/Part1/t20.png\"))\n",
    "\n",
    "print(\"T=30\")\n",
    "display(Image(\"../img/Part1/t30.png\"))\n"
   ]
  },
  {
   "cell_type": "markdown",
   "id": "8a4ed475164207ec",
   "metadata": {
    "collapsed": false,
    "jupyter": {
     "outputs_hidden": false
    }
   },
   "source": [
    "## Accuracy vs. length"
   ]
  },
  {
   "cell_type": "code",
   "execution_count": null,
   "id": "ff62b011c1ac10a6",
   "metadata": {
    "ExecuteTime": {
     "end_time": "2024-12-23T13:39:46.906795Z",
     "start_time": "2024-12-23T13:39:46.850665Z"
    }
   },
   "outputs": [],
   "source": [
    "import pandas as pd\n",
    "import matplotlib.pyplot as plt\n",
    "import os\n",
    "\n",
    "# Define the file paths for the CSV files located in the 'result' folder\n",
    "csv_files = ['./result/t4.csv', './result/t5.csv', './result/t10.csv', './result/t20.csv']\n",
    "\n",
    "# Initialize an empty list to store the maximum accuracies\n",
    "max_accuracies = []\n",
    "text_lengths = []  # List to store the corresponding text lengths\n",
    "\n",
    "# Loop over each CSV file, read it, and extract the maximum accuracy\n",
    "for csv_file in csv_files:\n",
    "    # Extract text length from the filename using the correct method\n",
    "    filename = os.path.basename(csv_file)  # Get the file name (e.g., 't4.csv')\n",
    "    length = int(filename.split('t')[1].split('.csv')[0])  # Extract number after 't' and before '.csv'\n",
    "    text_lengths.append(length)  # Append the length to the list\n",
    "\n",
    "    # Check if the file exists before reading\n",
    "    if os.path.exists(csv_file):\n",
    "        # Read the CSV file\n",
    "        data = pd.read_csv(csv_file)\n",
    "\n",
    "        # Assuming the column name for accuracy is 'train_acc', change if necessary\n",
    "        if 'train_acc' in data.columns:\n",
    "            max_acc = data['train_acc'].mean()  # Find maximum accuracy in the CSV\n",
    "            max_accuracies.append(max_acc)  # Append the result to the list\n",
    "        else:\n",
    "            print(f\"Warning: 'train_acc' column not found in {csv_file}\")\n",
    "    else:\n",
    "        print(f\"Warning: {csv_file} not found\")\n",
    "\n",
    "# Debugging: Print the lengths of both lists\n",
    "print(f\"text_lengths: {text_lengths}\")\n",
    "print(f\"max_accuracies: {max_accuracies}\")\n",
    "\n",
    "# Check if the lengths of both lists match\n",
    "if len(text_lengths) != len(max_accuracies):\n",
    "    print(f\"Error: The number of text lengths ({len(text_lengths)}) does not match the number of max accuracies ({len(max_accuracies)})\")\n",
    "\n",
    "# Plotting the max accuracy vs. text length\n",
    "if len(text_lengths) == len(max_accuracies):  # Proceed only if the lengths match\n",
    "    plt.figure(figsize=(8, 6))\n",
    "    plt.plot(text_lengths, max_accuracies, marker='o', linestyle='-', color='b')\n",
    "\n",
    "    # Labeling the axes and the plot\n",
    "    plt.xlabel('Text Length (T)', fontsize=12)\n",
    "    plt.ylabel('Max Training Accuracy', fontsize=12)\n",
    "    plt.title('Max Accuracy vs Text Length', fontsize=14)\n",
    "    plt.grid(True)\n",
    "    plt.ylim(bottom=0.4)\n",
    "    plt.xticks(text_lengths)  # Set x-ticks to correspond to the text lengths\n",
    "    plt.show()\n",
    "else:\n",
    "    print(\"Error: Data mismatch, unable to plot.\")\n"
   ]
  },
  {
   "cell_type": "code",
   "execution_count": null,
   "id": "47db21c80298c4ac",
   "metadata": {},
   "outputs": [],
   "source": []
  },
  {
   "cell_type": "code",
   "execution_count": null,
   "id": "16c1357d-5fd3-49b1-a494-57eb6ea5b879",
   "metadata": {},
   "outputs": [],
   "source": []
  },
  {
   "cell_type": "code",
   "execution_count": null,
   "id": "c8f5e222-8d8c-4f14-ae45-f8670c475dce",
   "metadata": {},
   "outputs": [],
   "source": []
  },
  {
   "cell_type": "code",
   "execution_count": null,
   "id": "3caadd03-8a89-4e95-860e-d05472407eca",
   "metadata": {},
   "outputs": [],
   "source": []
  }
 ],
 "metadata": {
  "kernelspec": {
   "display_name": "Python 3 (ipykernel)",
   "language": "python",
   "name": "python3"
  },
  "language_info": {
   "codemirror_mode": {
    "name": "ipython",
    "version": 3
   },
   "file_extension": ".py",
   "mimetype": "text/x-python",
   "name": "python",
   "nbconvert_exporter": "python",
   "pygments_lexer": "ipython3",
   "version": "3.13.1"
  }
 },
 "nbformat": 4,
 "nbformat_minor": 5
}
